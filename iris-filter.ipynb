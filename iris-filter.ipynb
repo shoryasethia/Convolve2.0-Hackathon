{
 "cells": [
  {
   "cell_type": "markdown",
   "metadata": {},
   "source": [
    "**Importing Necessary Libraries**"
   ]
  },
  {
   "cell_type": "code",
   "execution_count": 3,
   "metadata": {},
   "outputs": [],
   "source": [
    "import numpy as np\n",
    "import pandas as pd\n",
    "from sklearn.datasets import load_iris\n",
    "from sklearn.model_selection import train_test_split\n",
    "from sklearn.ensemble import RandomForestClassifier\n",
    "from sklearn.feature_selection import SelectKBest, f_classif, RFE\n"
   ]
  },
  {
   "cell_type": "markdown",
   "metadata": {},
   "source": [
    "*Explanation:*\n",
    "- numpy and pandas: Libraries for numerical operations and data manipulation.\n",
    "- load_iris: Function from sklearn.datasets to load the Iris dataset.\n",
    "- train_test_split: Function from sklearn.model_selection to split the dataset into training and testing sets.\n",
    "- RandomForestClassifier: Ensemble classifier from sklearn.ensemble used as the base estimator for the wrapper method.\n",
    "- SelectKBest, f_classif, and RFE: Classes and functions from sklearn.feature_selection for feature selection methods.\n",
    "\n"
   ]
  },
  {
   "cell_type": "markdown",
   "metadata": {},
   "source": [
    "**Loading Data**\n"
   ]
  },
  {
   "cell_type": "code",
   "execution_count": 4,
   "metadata": {},
   "outputs": [],
   "source": [
    "iris = load_iris()\n",
    "X = iris.data\n",
    "y = iris.target\n"
   ]
  },
  {
   "cell_type": "markdown",
   "metadata": {},
   "source": [
    "*Explanation:*\n",
    "- load_iris(): Loads the Iris dataset.\n",
    "- X: Contains the features.\n",
    "- y: Contains the target variable.\n"
   ]
  },
  {
   "cell_type": "code",
   "execution_count": 5,
   "metadata": {},
   "outputs": [
    {
     "name": "stdout",
     "output_type": "stream",
     "text": [
      "[[5.1 3.5 1.4 0.2]\n",
      " [4.9 3.  1.4 0.2]\n",
      " [4.7 3.2 1.3 0.2]\n",
      " [4.6 3.1 1.5 0.2]\n",
      " [5.  3.6 1.4 0.2]]\n"
     ]
    }
   ],
   "source": [
    "print(iris.data[:5])"
   ]
  },
  {
   "cell_type": "markdown",
   "metadata": {},
   "source": [
    "**Splitting Data**"
   ]
  },
  {
   "cell_type": "code",
   "execution_count": 6,
   "metadata": {},
   "outputs": [],
   "source": [
    "# Split the dataset into training and testing sets\n",
    "X_train, X_test, y_train, y_test = train_test_split(X, y, test_size=0.2, random_state=42)\n"
   ]
  },
  {
   "cell_type": "markdown",
   "metadata": {},
   "source": [
    "*Explanation:*\n",
    "- train_test_split: Splits the data into training and testing sets.\n",
    "- X_train, X_test: Training and testing feature sets.\n",
    "- y_train, y_test: Training and testing target variables.\n"
   ]
  },
  {
   "cell_type": "markdown",
   "metadata": {},
   "source": [
    "**Filter Method (SelectKBest)**"
   ]
  },
  {
   "cell_type": "code",
   "execution_count": 7,
   "metadata": {},
   "outputs": [],
   "source": [
    "# Feature Selection using Filter Method (SelectKBest with ANOVA F-statistic)\n",
    "k_best = SelectKBest(score_func=f_classif, k=2)\n",
    "X_train_filtered = k_best.fit_transform(X_train, y_train)\n",
    "X_test_filtered = k_best.transform(X_test)\n"
   ]
  },
  {
   "cell_type": "markdown",
   "metadata": {},
   "source": [
    "*Explanation:*\n",
    "- SelectKBest: Feature selection method selecting the k best features.\n",
    "- f_classif: ANOVA F-statistic as the scoring function for classification tasks.\n",
    "- k=2: Select the top 2 features.\n",
    "- fit_transform: Fits the transformer on the training set and transforms both training and testing sets.\n"
   ]
  },
  {
   "cell_type": "markdown",
   "metadata": {},
   "source": [
    "**Wrapper Method (RFE - Recursive Feature Elimination)**"
   ]
  },
  {
   "cell_type": "code",
   "execution_count": 8,
   "metadata": {},
   "outputs": [],
   "source": [
    "# Feature Selection using Wrapper Method (Recursive Feature Elimination - RFE)\n",
    "rf_classifier = RandomForestClassifier(n_estimators=100, random_state=42)\n",
    "rfe = RFE(estimator=rf_classifier, n_features_to_select=2, step=1)\n",
    "X_train_rfe = rfe.fit_transform(X_train, y_train)\n",
    "X_test_rfe = rfe.transform(X_test)\n"
   ]
  },
  {
   "cell_type": "markdown",
   "metadata": {},
   "source": [
    "*Explanation:*\n",
    "- RandomForestClassifier: Used as the base estimator for the RFE method.\n",
    "- n_estimators=100: Number of trees in the Random Forest.\n",
    "- n_features_to_select=2: Select the top 2 features.\n",
    "- step=1: Remove one feature at each iteration.\n",
    "- fit_transform: Fits the transformer on the training set and transforms both training and testing sets.\n"
   ]
  },
  {
   "cell_type": "markdown",
   "metadata": {},
   "source": [
    "**Print Selected Features**"
   ]
  },
  {
   "cell_type": "code",
   "execution_count": 9,
   "metadata": {},
   "outputs": [
    {
     "name": "stdout",
     "output_type": "stream",
     "text": [
      "Selected Features (Filter Method): ['petal length (cm)' 'petal width (cm)']\n",
      "Selected Features (Wrapper Method): ['petal length (cm)' 'petal width (cm)']\n"
     ]
    }
   ],
   "source": [
    "# Print selected features using SelectKBest\n",
    "selected_features_filter = np.array(iris.feature_names)[k_best.get_support()]\n",
    "print(\"Selected Features (Filter Method):\", selected_features_filter)\n",
    "\n",
    "# Print selected features using RFE\n",
    "selected_features_wrapper = np.array(iris.feature_names)[rfe.support_]\n",
    "print(\"Selected Features (Wrapper Method):\", selected_features_wrapper)"
   ]
  },
  {
   "cell_type": "markdown",
   "metadata": {},
   "source": [
    "*Explanation:*\n",
    "- k_best.get_support(): Retrieves a boolean mask of selected features from SelectKBest.\n",
    "- rfe.support_: Retrieves a boolean mask of selected features from RFE.\n",
    "- Selected features are printed for both the filter and wrapper methods.\n"
   ]
  }
 ],
 "metadata": {
  "kernelspec": {
   "display_name": "Python 3",
   "language": "python",
   "name": "python3"
  },
  "language_info": {
   "codemirror_mode": {
    "name": "ipython",
    "version": 3
   },
   "file_extension": ".py",
   "mimetype": "text/x-python",
   "name": "python",
   "nbconvert_exporter": "python",
   "pygments_lexer": "ipython3",
   "version": "3.12.0"
  }
 },
 "nbformat": 4,
 "nbformat_minor": 2
}
